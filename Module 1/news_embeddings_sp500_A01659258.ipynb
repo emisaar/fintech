{
 "cells": [
  {
   "cell_type": "markdown",
   "id": "d8b6de10",
   "metadata": {},
   "source": [
    "# MNA - Master in Applied Artificial Intelligence\n",
    "## Course: Fintech and Digital Innovation in Finance\n",
    "### Course project part 1\n",
    "#### Text embeddings and Technical Analysis on S&P 500 data (Section A)\n",
    "\n",
    "---\n",
    "\n",
    "**Student:** Emiliano Saucedo Arriola | A01659258  \n",
    "\n",
    "**Date:** July 28th, 2025\n",
    "\n",
    "---"
   ]
  },
  {
   "cell_type": "markdown",
   "id": "278363b3",
   "metadata": {},
   "source": [
    "# Introduction to text embeddings on S&P 500 news"
   ]
  },
  {
   "cell_type": "markdown",
   "id": "83d6ffde",
   "metadata": {},
   "source": [
    "## 📌 Objectives\n",
    "\n",
    "By the end of this notebook, students will be able to:\n",
    "\n",
    "1. **Retrieve Financial News:**\n",
    "   - Use the `yfinance` library to gather news headlines for all companies in the S&P 500 index.\n",
    "\n",
    "2. **Clean and Structure Financial Text Data:**\n",
    "   - Extract and organize relevant metadata (e.g., ticker, title, summary, publication date, URL) into a structured pandas DataFrame.\n",
    "\n",
    "3. **Generate Text Embeddings:**\n",
    "   - Apply a pre-trained sentence transformer model (`all-MiniLM-L6-v2`) to convert news headlines and summaries into numerical embeddings.\n",
    "\n",
    "4. **Apply Clustering Techniques:**\n",
    "   - Use K-Means clustering to identify groups of similar news articles based on semantic content.\n",
    "\n",
    "5. **Determine Optimal Number of Clusters:**\n",
    "   - Evaluate clustering quality using silhouette scores to find the best number of clusters.\n",
    "\n",
    "6. **Visualize High-Dimensional Embeddings:**\n",
    "   - Reduce the embedding space using PCA and visualize clusters in two dimensions.\n",
    "\n",
    "7. **Interpret Cluster Themes:**\n",
    "   - Analyze representative news\n"
   ]
  },
  {
   "cell_type": "markdown",
   "id": "fe54247f",
   "metadata": {},
   "source": [
    "## Install and Import important librairies"
   ]
  },
  {
   "cell_type": "code",
   "execution_count": 1,
   "id": "49c4fff2",
   "metadata": {},
   "outputs": [],
   "source": [
    "!pip -q install pandas yfinance lxml -U sentence-transformers tqdm matplotlib"
   ]
  },
  {
   "cell_type": "code",
   "execution_count": 2,
   "id": "7b8b20aa",
   "metadata": {},
   "outputs": [
    {
     "name": "stderr",
     "output_type": "stream",
     "text": [
      "/Users/emisaar/Documents/MNA/Verano/fintech/.venv/lib/python3.11/site-packages/tqdm/auto.py:21: TqdmWarning: IProgress not found. Please update jupyter and ipywidgets. See https://ipywidgets.readthedocs.io/en/stable/user_install.html\n",
      "  from .autonotebook import tqdm as notebook_tqdm\n"
     ]
    }
   ],
   "source": [
    "from sentence_transformers import SentenceTransformer\n",
    "import pandas as pd\n",
    "from sklearn.cluster import KMeans\n",
    "from sklearn.decomposition import PCA\n",
    "import matplotlib.pyplot as plt\n",
    "from sentence_transformers import SentenceTransformer\n",
    "import pandas as pd\n",
    "from sklearn.metrics import silhouette_score\n",
    "import yfinance as yf\n",
    "import numpy as np"
   ]
  },
  {
   "cell_type": "markdown",
   "id": "3f54a285",
   "metadata": {},
   "source": [
    "## Get the list of stocks in the S&P 500 "
   ]
  },
  {
   "cell_type": "code",
   "execution_count": 3,
   "id": "2d3c3175",
   "metadata": {},
   "outputs": [
    {
     "data": {
      "text/html": [
       "<div>\n",
       "<style scoped>\n",
       "    .dataframe tbody tr th:only-of-type {\n",
       "        vertical-align: middle;\n",
       "    }\n",
       "\n",
       "    .dataframe tbody tr th {\n",
       "        vertical-align: top;\n",
       "    }\n",
       "\n",
       "    .dataframe thead th {\n",
       "        text-align: right;\n",
       "    }\n",
       "</style>\n",
       "<table border=\"1\" class=\"dataframe\">\n",
       "  <thead>\n",
       "    <tr style=\"text-align: right;\">\n",
       "      <th></th>\n",
       "      <th>Symbol</th>\n",
       "      <th>Security</th>\n",
       "      <th>GICS Sector</th>\n",
       "      <th>GICS Sub-Industry</th>\n",
       "      <th>Headquarters Location</th>\n",
       "      <th>Date added</th>\n",
       "      <th>CIK</th>\n",
       "      <th>Founded</th>\n",
       "    </tr>\n",
       "  </thead>\n",
       "  <tbody>\n",
       "    <tr>\n",
       "      <th>0</th>\n",
       "      <td>MMM</td>\n",
       "      <td>3M</td>\n",
       "      <td>Industrials</td>\n",
       "      <td>Industrial Conglomerates</td>\n",
       "      <td>Saint Paul, Minnesota</td>\n",
       "      <td>1957-03-04</td>\n",
       "      <td>66740</td>\n",
       "      <td>1902</td>\n",
       "    </tr>\n",
       "    <tr>\n",
       "      <th>1</th>\n",
       "      <td>AOS</td>\n",
       "      <td>A. O. Smith</td>\n",
       "      <td>Industrials</td>\n",
       "      <td>Building Products</td>\n",
       "      <td>Milwaukee, Wisconsin</td>\n",
       "      <td>2017-07-26</td>\n",
       "      <td>91142</td>\n",
       "      <td>1916</td>\n",
       "    </tr>\n",
       "    <tr>\n",
       "      <th>2</th>\n",
       "      <td>ABT</td>\n",
       "      <td>Abbott Laboratories</td>\n",
       "      <td>Health Care</td>\n",
       "      <td>Health Care Equipment</td>\n",
       "      <td>North Chicago, Illinois</td>\n",
       "      <td>1957-03-04</td>\n",
       "      <td>1800</td>\n",
       "      <td>1888</td>\n",
       "    </tr>\n",
       "    <tr>\n",
       "      <th>3</th>\n",
       "      <td>ABBV</td>\n",
       "      <td>AbbVie</td>\n",
       "      <td>Health Care</td>\n",
       "      <td>Biotechnology</td>\n",
       "      <td>North Chicago, Illinois</td>\n",
       "      <td>2012-12-31</td>\n",
       "      <td>1551152</td>\n",
       "      <td>2013 (1888)</td>\n",
       "    </tr>\n",
       "    <tr>\n",
       "      <th>4</th>\n",
       "      <td>ACN</td>\n",
       "      <td>Accenture</td>\n",
       "      <td>Information Technology</td>\n",
       "      <td>IT Consulting &amp; Other Services</td>\n",
       "      <td>Dublin, Ireland</td>\n",
       "      <td>2011-07-06</td>\n",
       "      <td>1467373</td>\n",
       "      <td>1989</td>\n",
       "    </tr>\n",
       "  </tbody>\n",
       "</table>\n",
       "</div>"
      ],
      "text/plain": [
       "  Symbol             Security             GICS Sector  \\\n",
       "0    MMM                   3M             Industrials   \n",
       "1    AOS          A. O. Smith             Industrials   \n",
       "2    ABT  Abbott Laboratories             Health Care   \n",
       "3   ABBV               AbbVie             Health Care   \n",
       "4    ACN            Accenture  Information Technology   \n",
       "\n",
       "                GICS Sub-Industry    Headquarters Location  Date added  \\\n",
       "0        Industrial Conglomerates    Saint Paul, Minnesota  1957-03-04   \n",
       "1               Building Products     Milwaukee, Wisconsin  2017-07-26   \n",
       "2           Health Care Equipment  North Chicago, Illinois  1957-03-04   \n",
       "3                   Biotechnology  North Chicago, Illinois  2012-12-31   \n",
       "4  IT Consulting & Other Services          Dublin, Ireland  2011-07-06   \n",
       "\n",
       "       CIK      Founded  \n",
       "0    66740         1902  \n",
       "1    91142         1916  \n",
       "2     1800         1888  \n",
       "3  1551152  2013 (1888)  \n",
       "4  1467373         1989  "
      ]
     },
     "metadata": {},
     "output_type": "display_data"
    }
   ],
   "source": [
    "# Read and print the stock tickers that make up S&P500\n",
    "df_tickers = pd.read_html('https://en.wikipedia.org/wiki/List_of_S%26P_500_companies')[0]\n",
    "display(df_tickers.head())"
   ]
  },
  {
   "cell_type": "code",
   "execution_count": 4,
   "id": "c5309ff2",
   "metadata": {},
   "outputs": [
    {
     "name": "stdout",
     "output_type": "stream",
     "text": [
      "Sample tickers: ['MMM', 'AOS', 'ABT', 'ABBV', 'ACN']\n"
     ]
    }
   ],
   "source": [
    "ticker_list = df_tickers['Symbol'].tolist()\n",
    "print(f\"Sample tickers: {ticker_list[:5]}\")"
   ]
  },
  {
   "cell_type": "markdown",
   "id": "e067dba6",
   "metadata": {},
   "source": [
    "## Get the news of all 500 stocks in the S&P 500 Index\n",
    "Use the yfinance library to retrieve the news of all 500 stocks in the index.\n",
    "https://ranaroussi.github.io/yfinance/reference/yfinance.stock.html"
   ]
  },
  {
   "cell_type": "markdown",
   "id": "c2807119",
   "metadata": {},
   "source": [
    "### Get the news in a dictionary"
   ]
  },
  {
   "cell_type": "code",
   "execution_count": 5,
   "id": "2e78bb43",
   "metadata": {},
   "outputs": [
    {
     "name": "stderr",
     "output_type": "stream",
     "text": [
      "Fetching news: 100%|██████████| 503/503 [03:08<00:00,  2.67it/s]\n"
     ]
    }
   ],
   "source": [
    "# Create a dictionary where the keys are the symbols (tickers) of each 500 stocks \n",
    "# and the value is the output news from the yfinance library\n",
    "\n",
    "from tqdm import tqdm\n",
    "import random\n",
    "import time\n",
    "\n",
    "# Create a dictionary to store the news for each stock\n",
    "news_dict = {}\n",
    "\n",
    "# Loop through all tickers in the S&P 500\n",
    "for ticker in tqdm(ticker_list, desc=\"Fetching news\"):\n",
    "    try:\n",
    "        stock = yf.Ticker(ticker)\n",
    "        news = stock.news\n",
    "        news_dict[ticker] = news\n",
    "        time.sleep(random.uniform(0.1, 0.2))\n",
    "    except Exception as e:\n",
    "        print(f\"Error fetching news for {ticker}: {e}\")\n",
    "        news_dict[ticker] = []"
   ]
  },
  {
   "cell_type": "code",
   "execution_count": 6,
   "id": "e73722a9",
   "metadata": {},
   "outputs": [
    {
     "name": "stdout",
     "output_type": "stream",
     "text": [
      "\n",
      "Schema for first news in ticker: MMM\n",
      "id: str\n",
      "content: dict\n",
      "  id: str\n",
      "  contentType: str\n",
      "  title: str\n",
      "  description: str\n",
      "  summary: str\n",
      "  pubDate: str\n",
      "  displayTime: str\n",
      "  isHosted: bool\n",
      "  bypassModal: bool\n",
      "  previewUrl: NoneType\n",
      "  thumbnail: dict\n",
      "    originalUrl: str\n",
      "    originalWidth: int\n",
      "    originalHeight: int\n",
      "    caption: str\n",
      "    resolutions: list\n",
      "      [List of dict]\n",
      "        url: str\n",
      "        width: int\n",
      "        height: int\n",
      "        tag: str\n",
      "  provider: dict\n",
      "    displayName: str\n",
      "    url: str\n",
      "  canonicalUrl: dict\n",
      "    url: str\n",
      "    site: str\n",
      "    region: str\n",
      "    lang: str\n",
      "  clickThroughUrl: dict\n",
      "    url: str\n",
      "    site: str\n",
      "    region: str\n",
      "    lang: str\n",
      "  metadata: dict\n",
      "    editorsPick: bool\n",
      "  finance: dict\n",
      "    premiumFinance: dict\n",
      "      isPremiumNews: bool\n",
      "      isPremiumFreeNews: bool\n",
      "  storyline: NoneType\n"
     ]
    }
   ],
   "source": [
    "# Quick inspection of the news data structure\n",
    "def print_schema(obj, indent=0):\n",
    "    prefix = \"  \" * indent\n",
    "    if isinstance(obj, dict):\n",
    "        for key, value in obj.items():\n",
    "            print(f\"{prefix}{key}: {type(value).__name__}\")\n",
    "            print_schema(value, indent + 1)\n",
    "    elif isinstance(obj, list) and obj:\n",
    "        print(f\"{prefix}[List of {type(obj[0]).__name__}]\")\n",
    "        print_schema(obj[0], indent + 1)\n",
    "\n",
    "for ticker, news_list in news_dict.items():\n",
    "    if news_list:\n",
    "        print(f\"\\nSchema for first news in ticker: {ticker}\")\n",
    "        print_schema(news_list[0])\n",
    "        break\n"
   ]
  },
  {
   "cell_type": "markdown",
   "id": "c1de6cae",
   "metadata": {},
   "source": [
    "### Structure the news into a pandas dataframe \n",
    "\n",
    "Your final dataframe should have the following columns: \n",
    "- TICKER\n",
    "- TITLE (of the news)\n",
    "- SUMMARY (of the news)\n",
    "- PUBLICATION_DATE (of the news)\n",
    "- URL (of the news)\n",
    "\n",
    "Note: all of those fields are provided in the yfinance news component. Refer to the library documentation."
   ]
  },
  {
   "cell_type": "code",
   "execution_count": 7,
   "id": "fdb2faf1",
   "metadata": {},
   "outputs": [],
   "source": [
    "# YOUR CODE HERE\n",
    "# USE AS MANY CELLS AS YOU NEED\n",
    "# MAKE SURE TO DISPLAY INTERMEDIARY RESULS\n",
    "\n",
    "# Initialize a list to store structured news data\n",
    "news_data = []\n",
    "\n",
    "# Iterate through the news dictionary\n",
    "for ticker, news_items in news_dict.items():\n",
    "    for article in news_items:\n",
    "        # Extract fields\n",
    "        content = article.get('content', {})\n",
    "        if isinstance(content, dict) and content:\n",
    "            news_data.append(\n",
    "                {\n",
    "                    \"TICKER\": ticker,\n",
    "                    \"TITLE\": content.get('title', None),\n",
    "                    \"SUMMARY\": content.get('summary', None),\n",
    "                    \"PUBLICATION_DATE\": pd.to_datetime(content.get('pubDate', None)),\n",
    "                    \"URL\": content.get('canonicalUrl', {}).get('url', None)\n",
    "                }\n",
    "            )"
   ]
  },
  {
   "cell_type": "code",
   "execution_count": 8,
   "id": "f4f6f3ae",
   "metadata": {},
   "outputs": [
    {
     "data": {
      "text/html": [
       "<div>\n",
       "<style scoped>\n",
       "    .dataframe tbody tr th:only-of-type {\n",
       "        vertical-align: middle;\n",
       "    }\n",
       "\n",
       "    .dataframe tbody tr th {\n",
       "        vertical-align: top;\n",
       "    }\n",
       "\n",
       "    .dataframe thead th {\n",
       "        text-align: right;\n",
       "    }\n",
       "</style>\n",
       "<table border=\"1\" class=\"dataframe\">\n",
       "  <thead>\n",
       "    <tr style=\"text-align: right;\">\n",
       "      <th></th>\n",
       "      <th>TICKER</th>\n",
       "      <th>TITLE</th>\n",
       "      <th>SUMMARY</th>\n",
       "      <th>PUBLICATION_DATE</th>\n",
       "      <th>URL</th>\n",
       "    </tr>\n",
       "  </thead>\n",
       "  <tbody>\n",
       "    <tr>\n",
       "      <th>0</th>\n",
       "      <td>MMM</td>\n",
       "      <td>Zacks Industry Outlook Highlights Honeywell, 3...</td>\n",
       "      <td>HON, MMM, CSL, and FSS are well-positioned to ...</td>\n",
       "      <td>2025-07-21 09:45:00+00:00</td>\n",
       "      <td>https://finance.yahoo.com/news/zacks-industry-...</td>\n",
       "    </tr>\n",
       "    <tr>\n",
       "      <th>1</th>\n",
       "      <td>MMM</td>\n",
       "      <td>Stock Market News for Jul 21, 2025</td>\n",
       "      <td>U.S. stock markets closed mostly lower n Frida...</td>\n",
       "      <td>2025-07-21 08:22:00+00:00</td>\n",
       "      <td>https://finance.yahoo.com/news/stock-market-ne...</td>\n",
       "    </tr>\n",
       "    <tr>\n",
       "      <th>2</th>\n",
       "      <td>MMM</td>\n",
       "      <td>3M Co (MMM) Q2 2025 Earnings Call Highlights: ...</td>\n",
       "      <td>3M Co (MMM) reports a 12% increase in adjusted...</td>\n",
       "      <td>2025-07-19 07:05:47+00:00</td>\n",
       "      <td>https://finance.yahoo.com/news/3m-co-mmm-q2-20...</td>\n",
       "    </tr>\n",
       "    <tr>\n",
       "      <th>3</th>\n",
       "      <td>MMM</td>\n",
       "      <td>MMM Q1 Deep Dive: Tariffs Loom Over Stable Ope...</td>\n",
       "      <td>Industrial conglomerate 3M (NYSE:MMM) reported...</td>\n",
       "      <td>2025-07-19 05:30:58+00:00</td>\n",
       "      <td>https://finance.yahoo.com/news/mmm-q1-deep-div...</td>\n",
       "    </tr>\n",
       "    <tr>\n",
       "      <th>4</th>\n",
       "      <td>MMM</td>\n",
       "      <td>Dow Falls as Trump Reportedly Seeks Higher EU ...</td>\n",
       "      <td>The Dow Jones Industrial Average fell Friday f...</td>\n",
       "      <td>2025-07-18 21:11:10+00:00</td>\n",
       "      <td>https://finance.yahoo.com/news/dow-falls-trump...</td>\n",
       "    </tr>\n",
       "  </tbody>\n",
       "</table>\n",
       "</div>"
      ],
      "text/plain": [
       "  TICKER                                              TITLE  \\\n",
       "0    MMM  Zacks Industry Outlook Highlights Honeywell, 3...   \n",
       "1    MMM                 Stock Market News for Jul 21, 2025   \n",
       "2    MMM  3M Co (MMM) Q2 2025 Earnings Call Highlights: ...   \n",
       "3    MMM  MMM Q1 Deep Dive: Tariffs Loom Over Stable Ope...   \n",
       "4    MMM  Dow Falls as Trump Reportedly Seeks Higher EU ...   \n",
       "\n",
       "                                             SUMMARY  \\\n",
       "0  HON, MMM, CSL, and FSS are well-positioned to ...   \n",
       "1  U.S. stock markets closed mostly lower n Frida...   \n",
       "2  3M Co (MMM) reports a 12% increase in adjusted...   \n",
       "3  Industrial conglomerate 3M (NYSE:MMM) reported...   \n",
       "4  The Dow Jones Industrial Average fell Friday f...   \n",
       "\n",
       "           PUBLICATION_DATE                                                URL  \n",
       "0 2025-07-21 09:45:00+00:00  https://finance.yahoo.com/news/zacks-industry-...  \n",
       "1 2025-07-21 08:22:00+00:00  https://finance.yahoo.com/news/stock-market-ne...  \n",
       "2 2025-07-19 07:05:47+00:00  https://finance.yahoo.com/news/3m-co-mmm-q2-20...  \n",
       "3 2025-07-19 05:30:58+00:00  https://finance.yahoo.com/news/mmm-q1-deep-div...  \n",
       "4 2025-07-18 21:11:10+00:00  https://finance.yahoo.com/news/dow-falls-trump...  "
      ]
     },
     "metadata": {},
     "output_type": "display_data"
    }
   ],
   "source": [
    "# Create the DataFrame\n",
    "df_news = pd.DataFrame(news_data)\n",
    "\n",
    "# Show the shape and first few rows\n",
    "display(df_news.head(5))"
   ]
  },
  {
   "cell_type": "code",
   "execution_count": 9,
   "id": "4b76dd8a",
   "metadata": {},
   "outputs": [
    {
     "name": "stdout",
     "output_type": "stream",
     "text": [
      "Missing values in the DataFrame:\n",
      "   TICKER: 0\n",
      "   TITLE: 0\n",
      "   SUMMARY: 0\n",
      "   PUBLICATION_DATE: 0\n",
      "   URL: 0\n",
      "   Total missing values: 0\n",
      "----------------------------------------------------------------------------------------------------\n",
      "Total number of articles: 5016\n"
     ]
    }
   ],
   "source": [
    "# Brief summary\n",
    "print(\"Missing values in the DataFrame:\")\n",
    "print(\"   TICKER:\", df_news['TICKER'].isna().sum())\n",
    "print(\"   TITLE:\", df_news['TITLE'].isna().sum())\n",
    "print(\"   SUMMARY:\", df_news['SUMMARY'].isna().sum())\n",
    "print(\"   PUBLICATION_DATE:\", df_news['PUBLICATION_DATE'].isna().sum())\n",
    "print(\"   URL:\", df_news['URL'].isna().sum())\n",
    "print(\"   Total missing values:\", df_news.isna().sum().sum())\n",
    "print(\"--\" * 50)\n",
    "print(\"Total number of articles:\", df_news.shape[0])"
   ]
  },
  {
   "cell_type": "markdown",
   "id": "c7d157a8",
   "metadata": {},
   "source": [
    "## Exploring text embeddings\n",
    "\n",
    "- Use the open-source model: 'sentence-transformers/all-MiniLM-L6-v2' to create embeddings on the news title and summary\n",
    "- Add a column to your news dataframe called EMBEDDED_TEXT using ONLY the TITLE of the news\n",
    "- Add a column to your news dataframe called EMBEDDINGS, which contains the embedding of EMBEDDED_TEXT\n"
   ]
  },
  {
   "cell_type": "code",
   "execution_count": 10,
   "id": "a59b6d58",
   "metadata": {},
   "outputs": [
    {
     "name": "stderr",
     "output_type": "stream",
     "text": [
      "Batches: 100%|██████████| 157/157 [00:05<00:00, 28.73it/s]\n"
     ]
    }
   ],
   "source": [
    "# YOUR CODE HERE\n",
    "# USE AS MANY CELLS AS YOU NEED\n",
    "# MAKE SURE TO DISPLAY INTERMEDIARY RESULS\n",
    "\n",
    "# Load the pre-trained embedding model\n",
    "model = SentenceTransformer('sentence-transformers/all-MiniLM-L6-v2')\n",
    "\n",
    "# Add a column called 'EMBEDDED_TEXT'\n",
    "df_news['EMBEDDED_TEXT'] = df_news['TITLE']\n",
    "\n",
    "# Add a column called 'EMBEDDINGS'\n",
    "embeddings = model.encode(df_news['EMBEDDED_TEXT'].tolist(), show_progress_bar=True)\n",
    "\n",
    "# Assign to new column\n",
    "df_news['EMBEDDINGS'] = embeddings.tolist()"
   ]
  },
  {
   "cell_type": "code",
   "execution_count": 11,
   "id": "be1b07c0",
   "metadata": {},
   "outputs": [
    {
     "data": {
      "text/html": [
       "<div>\n",
       "<style scoped>\n",
       "    .dataframe tbody tr th:only-of-type {\n",
       "        vertical-align: middle;\n",
       "    }\n",
       "\n",
       "    .dataframe tbody tr th {\n",
       "        vertical-align: top;\n",
       "    }\n",
       "\n",
       "    .dataframe thead th {\n",
       "        text-align: right;\n",
       "    }\n",
       "</style>\n",
       "<table border=\"1\" class=\"dataframe\">\n",
       "  <thead>\n",
       "    <tr style=\"text-align: right;\">\n",
       "      <th></th>\n",
       "      <th>TICKER</th>\n",
       "      <th>EMBEDDED_TEXT</th>\n",
       "      <th>EMBEDDINGS</th>\n",
       "    </tr>\n",
       "  </thead>\n",
       "  <tbody>\n",
       "    <tr>\n",
       "      <th>0</th>\n",
       "      <td>MMM</td>\n",
       "      <td>Zacks Industry Outlook Highlights Honeywell, 3...</td>\n",
       "      <td>[-0.021629296243190765, -0.07978318631649017, ...</td>\n",
       "    </tr>\n",
       "    <tr>\n",
       "      <th>1</th>\n",
       "      <td>MMM</td>\n",
       "      <td>Stock Market News for Jul 21, 2025</td>\n",
       "      <td>[-0.03746960684657097, -0.043813712894916534, ...</td>\n",
       "    </tr>\n",
       "    <tr>\n",
       "      <th>2</th>\n",
       "      <td>MMM</td>\n",
       "      <td>3M Co (MMM) Q2 2025 Earnings Call Highlights: ...</td>\n",
       "      <td>[-0.08080153167247772, -0.029800741001963615, ...</td>\n",
       "    </tr>\n",
       "    <tr>\n",
       "      <th>3</th>\n",
       "      <td>MMM</td>\n",
       "      <td>MMM Q1 Deep Dive: Tariffs Loom Over Stable Ope...</td>\n",
       "      <td>[-0.019502609968185425, -0.07280398905277252, ...</td>\n",
       "    </tr>\n",
       "    <tr>\n",
       "      <th>4</th>\n",
       "      <td>MMM</td>\n",
       "      <td>Dow Falls as Trump Reportedly Seeks Higher EU ...</td>\n",
       "      <td>[0.01862616278231144, -0.03162859380245209, 0....</td>\n",
       "    </tr>\n",
       "  </tbody>\n",
       "</table>\n",
       "</div>"
      ],
      "text/plain": [
       "  TICKER                                      EMBEDDED_TEXT  \\\n",
       "0    MMM  Zacks Industry Outlook Highlights Honeywell, 3...   \n",
       "1    MMM                 Stock Market News for Jul 21, 2025   \n",
       "2    MMM  3M Co (MMM) Q2 2025 Earnings Call Highlights: ...   \n",
       "3    MMM  MMM Q1 Deep Dive: Tariffs Loom Over Stable Ope...   \n",
       "4    MMM  Dow Falls as Trump Reportedly Seeks Higher EU ...   \n",
       "\n",
       "                                          EMBEDDINGS  \n",
       "0  [-0.021629296243190765, -0.07978318631649017, ...  \n",
       "1  [-0.03746960684657097, -0.043813712894916534, ...  \n",
       "2  [-0.08080153167247772, -0.029800741001963615, ...  \n",
       "3  [-0.019502609968185425, -0.07280398905277252, ...  \n",
       "4  [0.01862616278231144, -0.03162859380245209, 0....  "
      ]
     },
     "metadata": {},
     "output_type": "display_data"
    }
   ],
   "source": [
    "# Display the updated dataframe\n",
    "display(df_news[['TICKER', 'EMBEDDED_TEXT', 'EMBEDDINGS']].head())"
   ]
  },
  {
   "cell_type": "markdown",
   "id": "17f0fada",
   "metadata": {},
   "source": [
    "## Using K-means clustering on news embeddings\n",
    "to simplify, keep only one news for each company (ticker), you should have 500 rows in your news dataframe"
   ]
  },
  {
   "cell_type": "code",
   "execution_count": 12,
   "id": "78bf32c0",
   "metadata": {},
   "outputs": [
    {
     "name": "stdout",
     "output_type": "stream",
     "text": [
      "Number of unique tickers: 500\n"
     ]
    },
    {
     "data": {
      "text/html": [
       "<div>\n",
       "<style scoped>\n",
       "    .dataframe tbody tr th:only-of-type {\n",
       "        vertical-align: middle;\n",
       "    }\n",
       "\n",
       "    .dataframe tbody tr th {\n",
       "        vertical-align: top;\n",
       "    }\n",
       "\n",
       "    .dataframe thead th {\n",
       "        text-align: right;\n",
       "    }\n",
       "</style>\n",
       "<table border=\"1\" class=\"dataframe\">\n",
       "  <thead>\n",
       "    <tr style=\"text-align: right;\">\n",
       "      <th></th>\n",
       "      <th>TICKER</th>\n",
       "      <th>TITLE</th>\n",
       "      <th>SUMMARY</th>\n",
       "      <th>PUBLICATION_DATE</th>\n",
       "      <th>URL</th>\n",
       "      <th>EMBEDDED_TEXT</th>\n",
       "      <th>EMBEDDINGS</th>\n",
       "    </tr>\n",
       "  </thead>\n",
       "  <tbody>\n",
       "    <tr>\n",
       "      <th>3636</th>\n",
       "      <td>PYPL</td>\n",
       "      <td>PayPal to launch cross-border platform with li...</td>\n",
       "      <td>MUMBAI (Reuters) -Payments firm PayPal has par...</td>\n",
       "      <td>2025-07-23 05:15:46+00:00</td>\n",
       "      <td>https://finance.yahoo.com/news/paypal-launch-c...</td>\n",
       "      <td>PayPal to launch cross-border platform with li...</td>\n",
       "      <td>[-0.028456756845116615, -0.003977995365858078,...</td>\n",
       "    </tr>\n",
       "    <tr>\n",
       "      <th>4380</th>\n",
       "      <td>TSLA</td>\n",
       "      <td>Which Mag 7 stocks will be the top performers ...</td>\n",
       "      <td>The latest earnings season will be another tes...</td>\n",
       "      <td>2025-07-23 05:00:28+00:00</td>\n",
       "      <td>https://uk.finance.yahoo.com/news/magnficent-7...</td>\n",
       "      <td>Which Mag 7 stocks will be the top performers ...</td>\n",
       "      <td>[-0.039110664278268814, -0.10211867094039917, ...</td>\n",
       "    </tr>\n",
       "    <tr>\n",
       "      <th>3449</th>\n",
       "      <td>NVDA</td>\n",
       "      <td>Which Mag 7 stocks will be the top performers ...</td>\n",
       "      <td>The latest earnings season will be another tes...</td>\n",
       "      <td>2025-07-23 05:00:28+00:00</td>\n",
       "      <td>https://uk.finance.yahoo.com/news/magnficent-7...</td>\n",
       "      <td>Which Mag 7 stocks will be the top performers ...</td>\n",
       "      <td>[-0.039110664278268814, -0.10211867094039917, ...</td>\n",
       "    </tr>\n",
       "    <tr>\n",
       "      <th>202</th>\n",
       "      <td>GOOG</td>\n",
       "      <td>Which Mag 7 stocks will be the top performers ...</td>\n",
       "      <td>The latest earnings season will be another tes...</td>\n",
       "      <td>2025-07-23 05:00:28+00:00</td>\n",
       "      <td>https://uk.finance.yahoo.com/news/magnficent-7...</td>\n",
       "      <td>Which Mag 7 stocks will be the top performers ...</td>\n",
       "      <td>[-0.039110664278268814, -0.10211867094039917, ...</td>\n",
       "    </tr>\n",
       "    <tr>\n",
       "      <th>3148</th>\n",
       "      <td>MSFT</td>\n",
       "      <td>Which Mag 7 stocks will be the top performers ...</td>\n",
       "      <td>The latest earnings season will be another tes...</td>\n",
       "      <td>2025-07-23 05:00:28+00:00</td>\n",
       "      <td>https://uk.finance.yahoo.com/news/magnficent-7...</td>\n",
       "      <td>Which Mag 7 stocks will be the top performers ...</td>\n",
       "      <td>[-0.039110664278268814, -0.10211867094039917, ...</td>\n",
       "    </tr>\n",
       "  </tbody>\n",
       "</table>\n",
       "</div>"
      ],
      "text/plain": [
       "     TICKER                                              TITLE  \\\n",
       "3636   PYPL  PayPal to launch cross-border platform with li...   \n",
       "4380   TSLA  Which Mag 7 stocks will be the top performers ...   \n",
       "3449   NVDA  Which Mag 7 stocks will be the top performers ...   \n",
       "202    GOOG  Which Mag 7 stocks will be the top performers ...   \n",
       "3148   MSFT  Which Mag 7 stocks will be the top performers ...   \n",
       "\n",
       "                                                SUMMARY  \\\n",
       "3636  MUMBAI (Reuters) -Payments firm PayPal has par...   \n",
       "4380  The latest earnings season will be another tes...   \n",
       "3449  The latest earnings season will be another tes...   \n",
       "202   The latest earnings season will be another tes...   \n",
       "3148  The latest earnings season will be another tes...   \n",
       "\n",
       "              PUBLICATION_DATE  \\\n",
       "3636 2025-07-23 05:15:46+00:00   \n",
       "4380 2025-07-23 05:00:28+00:00   \n",
       "3449 2025-07-23 05:00:28+00:00   \n",
       "202  2025-07-23 05:00:28+00:00   \n",
       "3148 2025-07-23 05:00:28+00:00   \n",
       "\n",
       "                                                    URL  \\\n",
       "3636  https://finance.yahoo.com/news/paypal-launch-c...   \n",
       "4380  https://uk.finance.yahoo.com/news/magnficent-7...   \n",
       "3449  https://uk.finance.yahoo.com/news/magnficent-7...   \n",
       "202   https://uk.finance.yahoo.com/news/magnficent-7...   \n",
       "3148  https://uk.finance.yahoo.com/news/magnficent-7...   \n",
       "\n",
       "                                          EMBEDDED_TEXT  \\\n",
       "3636  PayPal to launch cross-border platform with li...   \n",
       "4380  Which Mag 7 stocks will be the top performers ...   \n",
       "3449  Which Mag 7 stocks will be the top performers ...   \n",
       "202   Which Mag 7 stocks will be the top performers ...   \n",
       "3148  Which Mag 7 stocks will be the top performers ...   \n",
       "\n",
       "                                             EMBEDDINGS  \n",
       "3636  [-0.028456756845116615, -0.003977995365858078,...  \n",
       "4380  [-0.039110664278268814, -0.10211867094039917, ...  \n",
       "3449  [-0.039110664278268814, -0.10211867094039917, ...  \n",
       "202   [-0.039110664278268814, -0.10211867094039917, ...  \n",
       "3148  [-0.039110664278268814, -0.10211867094039917, ...  "
      ]
     },
     "metadata": {},
     "output_type": "display_data"
    }
   ],
   "source": [
    "# YOUR CODE HERE\n",
    "# USE AS MANY CELLS AS YOU NEED\n",
    "# MAKE SURE TO DISPLAY INTERMEDIARY RESULS\n",
    "\n",
    "# Keep only the first occurrence of each ticker\n",
    "df_news_500 = df_news.sort_values(by='PUBLICATION_DATE', ascending=False).drop_duplicates(subset='TICKER', keep='first')\n",
    "\n",
    "# Ensure there are exactly 500\n",
    "df_news_500 = df_news_500.head(500)\n",
    "print(f\"Number of unique tickers: {df_news_500.shape[0]}\")\n",
    "display(df_news_500.head())"
   ]
  },
  {
   "cell_type": "markdown",
   "id": "b1cdc413",
   "metadata": {},
   "source": [
    "### Identify the number of clusters using the silhouette score\n",
    "\n",
    "- Using a for loop, do the clustering with different k values (number of clusters), test 1 to 6 clusters\n",
    "- Compute the silhouette score for every k value\n",
    "- Plot the silhouette score for different k values"
   ]
  },
  {
   "cell_type": "markdown",
   "id": "22bda120",
   "metadata": {},
   "source": [
    "#### Try different values of k and compute silhouette scores"
   ]
  },
  {
   "cell_type": "code",
   "execution_count": 13,
   "id": "e0ea69df",
   "metadata": {},
   "outputs": [
    {
     "name": "stdout",
     "output_type": "stream",
     "text": [
      "k = 2 → Silhouette Score = 0.0378\n",
      "k = 3 → Silhouette Score = 0.0437\n",
      "k = 4 → Silhouette Score = 0.0459\n",
      "k = 5 → Silhouette Score = 0.0481\n",
      "k = 6 → Silhouette Score = 0.0347\n"
     ]
    },
    {
     "name": "stderr",
     "output_type": "stream",
     "text": [
      "huggingface/tokenizers: The current process just got forked, after parallelism has already been used. Disabling parallelism to avoid deadlocks...\n",
      "To disable this warning, you can either:\n",
      "\t- Avoid using `tokenizers` before the fork if possible\n",
      "\t- Explicitly set the environment variable TOKENIZERS_PARALLELISM=(true | false)\n"
     ]
    }
   ],
   "source": [
    "# YOUR CODE HERE\n",
    "# USE AS MANY CELLS AS YOU NEED\n",
    "# MAKE SURE TO DISPLAY INTERMEDIARY RESULS\n",
    "\n",
    "# Test k from 2 to 6\n",
    "range_n_clusters = range(2, 7)\n",
    "silhouette_scores = []\n",
    "\n",
    "# Create the feature matrix\n",
    "X = np.array(df_news_500['EMBEDDINGS'].to_list())\n",
    "\n",
    "for k in range_n_clusters:\n",
    "    # Fit KMeans\n",
    "    kmeans = KMeans(n_clusters=k, random_state=42, n_init='auto')\n",
    "    cluster_labels = kmeans.fit_predict(X)\n",
    "    \n",
    "    # Compute silhouette score\n",
    "    score = silhouette_score(X, cluster_labels)\n",
    "    silhouette_scores.append(score)\n",
    "    \n",
    "    print(f\"k = {k} → Silhouette Score = {score:.4f}\")"
   ]
  },
  {
   "cell_type": "markdown",
   "id": "41da4eae",
   "metadata": {},
   "source": [
    "#### Plot silhouette scores"
   ]
  },
  {
   "cell_type": "code",
   "execution_count": 14,
   "id": "99798590",
   "metadata": {},
   "outputs": [
    {
     "data": {
      "image/png": "[encoded data removed]",
      "text/plain": [
       "<Figure size 800x500 with 1 Axes>"
      ]
     },
     "metadata": {},
     "output_type": "display_data"
    }
   ],
   "source": [
    "# YOUR CODE HERE\n",
    "# USE AS MANY CELLS AS YOU NEED\n",
    "# MAKE SURE TO DISPLAY INTERMEDIARY RESULS\n",
    "\n",
    "plt.figure(figsize=(8, 5))\n",
    "plt.plot(range_n_clusters, silhouette_scores, marker='o')\n",
    "plt.title(\"Silhouette Score vs Number of Clusters (k)\")\n",
    "plt.xlabel(\"Number of clusters (k)\")\n",
    "plt.ylabel(\"Silhouette Score\")\n",
    "plt.grid(True)\n",
    "plt.show()"
   ]
  },
  {
   "cell_type": "markdown",
   "id": "d311d914",
   "metadata": {},
   "source": [
    "#### Identify the Best k"
   ]
  },
  {
   "cell_type": "code",
   "execution_count": 15,
   "id": "34e71c10",
   "metadata": {},
   "outputs": [
    {
     "name": "stdout",
     "output_type": "stream",
     "text": [
      "Best k based on silhouette score: 5\n"
     ]
    }
   ],
   "source": [
    "# YOUR CODE HERE\n",
    "# USE AS MANY CELLS AS YOU NEED\n",
    "# MAKE SURE TO DISPLAY INTERMEDIARY RESULS\n",
    "\n",
    "best_k = range_n_clusters[np.argmax(silhouette_scores)]\n",
    "print(f\"Best k based on silhouette score: {best_k}\")"
   ]
  },
  {
   "cell_type": "markdown",
   "id": "07115a68",
   "metadata": {},
   "source": [
    "#### Cluster the embeddings using 3 clusters (k=3)"
   ]
  },
  {
   "cell_type": "code",
   "execution_count": 16,
   "id": "3bbae044",
   "metadata": {},
   "outputs": [],
   "source": [
    "# YOUR CODE HERE\n",
    "# USE AS MANY CELLS AS YOU NEED\n",
    "# MAKE SURE TO DISPLAY INTERMEDIARY RESULS\n",
    "\n",
    "# Run KMeans clustering\n",
    "k = 3\n",
    "kmeans = KMeans(n_clusters=k, random_state=42, n_init='auto')\n",
    "cluster_labels = kmeans.fit_predict(X)\n",
    "\n",
    "# Add the cluster labels to the DataFrame\n",
    "df_news_500['CLUSTER'] = cluster_labels"
   ]
  },
  {
   "cell_type": "code",
   "execution_count": 17,
   "id": "901404e8",
   "metadata": {},
   "outputs": [
    {
     "data": {
      "text/html": [
       "<div>\n",
       "<style scoped>\n",
       "    .dataframe tbody tr th:only-of-type {\n",
       "        vertical-align: middle;\n",
       "    }\n",
       "\n",
       "    .dataframe tbody tr th {\n",
       "        vertical-align: top;\n",
       "    }\n",
       "\n",
       "    .dataframe thead th {\n",
       "        text-align: right;\n",
       "    }\n",
       "</style>\n",
       "<table border=\"1\" class=\"dataframe\">\n",
       "  <thead>\n",
       "    <tr style=\"text-align: right;\">\n",
       "      <th></th>\n",
       "      <th>TICKER</th>\n",
       "      <th>TITLE</th>\n",
       "      <th>CLUSTER</th>\n",
       "    </tr>\n",
       "  </thead>\n",
       "  <tbody>\n",
       "    <tr>\n",
       "      <th>3636</th>\n",
       "      <td>PYPL</td>\n",
       "      <td>PayPal to launch cross-border platform with li...</td>\n",
       "      <td>0</td>\n",
       "    </tr>\n",
       "    <tr>\n",
       "      <th>4380</th>\n",
       "      <td>TSLA</td>\n",
       "      <td>Which Mag 7 stocks will be the top performers ...</td>\n",
       "      <td>2</td>\n",
       "    </tr>\n",
       "    <tr>\n",
       "      <th>3449</th>\n",
       "      <td>NVDA</td>\n",
       "      <td>Which Mag 7 stocks will be the top performers ...</td>\n",
       "      <td>2</td>\n",
       "    </tr>\n",
       "    <tr>\n",
       "      <th>202</th>\n",
       "      <td>GOOG</td>\n",
       "      <td>Which Mag 7 stocks will be the top performers ...</td>\n",
       "      <td>2</td>\n",
       "    </tr>\n",
       "    <tr>\n",
       "      <th>3148</th>\n",
       "      <td>MSFT</td>\n",
       "      <td>Which Mag 7 stocks will be the top performers ...</td>\n",
       "      <td>2</td>\n",
       "    </tr>\n",
       "    <tr>\n",
       "      <th>3087</th>\n",
       "      <td>META</td>\n",
       "      <td>Which Mag 7 stocks will be the top performers ...</td>\n",
       "      <td>2</td>\n",
       "    </tr>\n",
       "    <tr>\n",
       "      <th>193</th>\n",
       "      <td>GOOGL</td>\n",
       "      <td>Which Mag 7 stocks will be the top performers ...</td>\n",
       "      <td>2</td>\n",
       "    </tr>\n",
       "    <tr>\n",
       "      <th>222</th>\n",
       "      <td>AMZN</td>\n",
       "      <td>Which Mag 7 stocks will be the top performers ...</td>\n",
       "      <td>2</td>\n",
       "    </tr>\n",
       "    <tr>\n",
       "      <th>382</th>\n",
       "      <td>AAPL</td>\n",
       "      <td>Which Mag 7 stocks will be the top performers ...</td>\n",
       "      <td>2</td>\n",
       "    </tr>\n",
       "    <tr>\n",
       "      <th>976</th>\n",
       "      <td>CVX</td>\n",
       "      <td>Oil Edges Higher With Progress of US Trade Tal...</td>\n",
       "      <td>0</td>\n",
       "    </tr>\n",
       "  </tbody>\n",
       "</table>\n",
       "</div>"
      ],
      "text/plain": [
       "     TICKER                                              TITLE  CLUSTER\n",
       "3636   PYPL  PayPal to launch cross-border platform with li...        0\n",
       "4380   TSLA  Which Mag 7 stocks will be the top performers ...        2\n",
       "3449   NVDA  Which Mag 7 stocks will be the top performers ...        2\n",
       "202    GOOG  Which Mag 7 stocks will be the top performers ...        2\n",
       "3148   MSFT  Which Mag 7 stocks will be the top performers ...        2\n",
       "3087   META  Which Mag 7 stocks will be the top performers ...        2\n",
       "193   GOOGL  Which Mag 7 stocks will be the top performers ...        2\n",
       "222    AMZN  Which Mag 7 stocks will be the top performers ...        2\n",
       "382    AAPL  Which Mag 7 stocks will be the top performers ...        2\n",
       "976     CVX  Oil Edges Higher With Progress of US Trade Tal...        0"
      ]
     },
     "metadata": {},
     "output_type": "display_data"
    }
   ],
   "source": [
    "# Show a few sample rows with cluster assignment\n",
    "display(df_news_500[['TICKER', 'TITLE', 'CLUSTER']].head(10))"
   ]
  },
  {
   "cell_type": "code",
   "execution_count": 18,
   "id": "a4d8d5ee",
   "metadata": {},
   "outputs": [
    {
     "name": "stdout",
     "output_type": "stream",
     "text": [
      "Companies per cluster:\n",
      "CLUSTER\n",
      "0    152\n",
      "1    151\n",
      "2    197\n",
      "Name: count, dtype: int64\n"
     ]
    }
   ],
   "source": [
    "cluster_counts = df_news_500['CLUSTER'].value_counts().sort_index()\n",
    "print(\"Companies per cluster:\")\n",
    "print(cluster_counts)"
   ]
  },
  {
   "cell_type": "markdown",
   "id": "c4920b80",
   "metadata": {},
   "source": [
    "### Visualize the 2 first PCA Components of your embeddings"
   ]
  },
  {
   "cell_type": "code",
   "execution_count": 19,
   "id": "5e600ab9",
   "metadata": {},
   "outputs": [],
   "source": [
    "# YOUR CODE HERE\n",
    "# USE AS MANY CELLS AS YOU NEED\n",
    "# MAKE SURE TO DISPLAY INTERMEDIARY RESULS\n",
    "\n",
    "# Reduce embeddings to 2 dimensions using PCA\n",
    "pca = PCA(n_components=2, random_state=42)\n",
    "X_pca = pca.fit_transform(X)\n",
    "\n",
    "# Add PCA components to the DataFrame for plotting\n",
    "df_news_500['PCA1'] = X_pca[:, 0]\n",
    "df_news_500['PCA2'] = X_pca[:, 1]\n"
   ]
  },
  {
   "cell_type": "code",
   "execution_count": 20,
   "id": "8d325d50",
   "metadata": {},
   "outputs": [
    {
     "data": {
      "image/png": "[encoded data removed]",
      "text/plain": [
       "<Figure size 1000x600 with 1 Axes>"
      ]
     },
     "metadata": {},
     "output_type": "display_data"
    }
   ],
   "source": [
    "# Scatter plot by cluster\n",
    "plt.figure(figsize=(10, 6))\n",
    "for cluster_id in sorted(df_news_500['CLUSTER'].unique()):\n",
    "    cluster_data = df_news_500[df_news_500['CLUSTER'] == cluster_id]\n",
    "    plt.scatter(cluster_data['PCA1'], cluster_data['PCA2'], label=f\"Cluster {cluster_id}\", alpha=0.7)\n",
    "\n",
    "plt.title(\"News Embeddings (PCA) with k=3 Clusters\")\n",
    "plt.xlabel(\"PCA Component 1\")\n",
    "plt.ylabel(\"PCA Component 2\")\n",
    "plt.legend()\n",
    "plt.grid(True)\n",
    "plt.show()"
   ]
  },
  {
   "cell_type": "markdown",
   "id": "6b0dae3d",
   "metadata": {},
   "source": [
    "#### Analyze the content of each cluster\n",
    "- Add the kmeans cluster label to your news dataframe\n",
    "- Print the content of each cluster and analyze it"
   ]
  },
  {
   "cell_type": "code",
   "execution_count": 21,
   "id": "3e6719b8",
   "metadata": {},
   "outputs": [
    {
     "name": "stdout",
     "output_type": "stream",
     "text": [
      "\n",
      "=== Cluster 0 ===\n",
      "1. PayPal to launch cross-border platform with link to India's UPI payments system\n",
      "2. Oil Edges Higher With Progress of US Trade Talks in Spotlight\n",
      "3. Starbucks Opens Free Study Rooms in China to Lure Customers\n",
      "4. Advent-backed NIQ raises $1.05 billion in US IPO\n",
      "5. Why Regency Centers, Tyson Foods, And Pfizer Are Winners For Passive Income\n",
      "\n",
      "=== Cluster 1 ===\n",
      "1. Union Pacific (UNP) Q2 Earnings: What To Expect\n",
      "2. Deckers (DECK) Q2 Earnings: What To Expect\n",
      "3. Pool (POOL) Reports Earnings Tomorrow: What To Expect\n",
      "4. What To Expect From Tractor Supply’s (TSCO) Q2 Earnings\n",
      "5. A. O. Smith (AOS) Reports Earnings Tomorrow: What To Expect\n",
      "\n",
      "=== Cluster 2 ===\n",
      "1. Which Mag 7 stocks will be the top performers this earnings season?\n",
      "2. Which Mag 7 stocks will be the top performers this earnings season?\n",
      "3. Which Mag 7 stocks will be the top performers this earnings season?\n",
      "4. Which Mag 7 stocks will be the top performers this earnings season?\n",
      "5. Which Mag 7 stocks will be the top performers this earnings season?\n"
     ]
    }
   ],
   "source": [
    "# YOUR CODE HERE\n",
    "# USE AS MANY CELLS AS YOU NEED\n",
    "# MAKE SURE TO DISPLAY INTERMEDIARY RESULS\n",
    "\n",
    "# Print 5 sample news headlines per cluster\n",
    "for cluster_id in sorted(df_news_500['CLUSTER'].unique()):\n",
    "    print(f\"\\n=== Cluster {cluster_id} ===\")\n",
    "    sample_headlines = df_news_500[df_news_500['CLUSTER'] == cluster_id]['TITLE'].head(5).tolist()\n",
    "    for i, title in enumerate(sample_headlines, 1):\n",
    "        print(f\"{i}. {title}\")\n"
   ]
  },
  {
   "cell_type": "code",
   "execution_count": null,
   "id": "ca75b226",
   "metadata": {},
   "outputs": [
    {
     "name": "stdout",
     "output_type": "stream",
     "text": [
      "\n",
      "Cluster 0 — Top words:\n",
      "  target: 18\n",
      "  new: 17\n",
      "  price: 17\n",
      "  market: 15\n",
      "  rating: 12\n",
      "  trumps: 12\n",
      "  buy: 11\n",
      "  mergers: 11\n",
      "  analyst: 10\n",
      "  old: 9\n",
      "\n",
      "Cluster 1 — Top words:\n",
      "  earnings: 129\n",
      "  report: 33\n",
      "  expect: 24\n",
      "  2025: 20\n",
      "  stock: 20\n",
      "  preview: 18\n",
      "  strong: 15\n",
      "  know: 14\n",
      "  quarter: 13\n",
      "  growth: 11\n",
      "\n",
      "Cluster 2 — Top words:\n",
      "  stock: 82\n",
      "  stocks: 63\n",
      "  dividend: 22\n",
      "  buy: 19\n",
      "  growth: 15\n",
      "  market: 15\n",
      "  earnings: 13\n",
      "  value: 12\n",
      "  week: 11\n",
      "  tesla: 10\n"
     ]
    }
   ],
   "source": [
    "import re\n",
    "from collections import Counter\n",
    "from sklearn.feature_extraction.text import ENGLISH_STOP_WORDS\n",
    "\n",
    "# Función para limpiar el texto\n",
    "def clean_text(text):\n",
    "    text = text.lower()\n",
    "    text = re.sub(r'[^\\w\\s]', '', text)  # Remove punctuation\n",
    "    tokens = text.split()\n",
    "    tokens = [t for t in tokens if t not in ENGLISH_STOP_WORDS and len(t) > 2]\n",
    "    return tokens\n",
    "\n",
    "\n",
    "# Diccionario para guardar los conteos\n",
    "cluster_keywords = {}\n",
    "\n",
    "# Iterar sobre cada clúster\n",
    "for cluster_id in sorted(df_news_500['CLUSTER'].unique()):\n",
    "    titles = df_news_500[df_news_500['CLUSTER'] == cluster_id]['TITLE'].dropna().tolist()\n",
    "    all_tokens = []\n",
    "    for title in titles:\n",
    "        all_tokens.extend(clean_text(title))\n",
    "    \n",
    "    # Contar las palabras más comunes\n",
    "    word_counts = Counter(all_tokens).most_common(10)\n",
    "    cluster_keywords[cluster_id] = word_counts\n",
    "\n",
    "# Mostrar resultados\n",
    "for cluster_id, words in cluster_keywords.items():\n",
    "    print(f\"\\nCluster {cluster_id} — Top words:\")\n",
    "    for word, count in words:\n",
    "        print(f\"  {word}: {count}\")\n"
   ]
  },
  {
   "cell_type": "markdown",
   "id": "9bbe670f",
   "metadata": {},
   "source": [
    "\n",
    "\n",
    "## Question Section\n",
    "\n",
    "Take time to reflect on what you've implemented and observed. Answer the following questions in a separate markdown cell or notebook file:\n",
    "\n",
    "---\n",
    "\n",
    "### Technical Understanding\n",
    "\n",
    "#### 1️⃣ How might the choice of embedding model (e.g., MiniLM vs. a larger transformer) affect your clustering results and interpretation?\n",
    "\n",
    "> The choice of embedding model affects clustering through a trade-off between semantic depth and efficiency. Larger models capture finer nuances, leading to more coherent and interpretable clusters, while MiniLM offers speed and scalability at the cost of subtle meaning.\n",
    "\n",
    "---\n",
    "\n",
    "#### 2️⃣ What would be the differences in embeddings if you used only the TITLE, only the SUMMARY, or the combination of both? How could you empirically test this?\n",
    "\n",
    "> Using only the title gives a quick snapshot, while the summary adds context and nuance. Combining both can create richer embeddings, potentially improving clustering.\n",
    "\n",
    "---\n",
    "\n",
    "#### 3️⃣ In what situations would using a different dimensionality reduction method (e.g., t-SNE, UMAP) be preferable over PCA for visualization of embeddings?\n",
    "\n",
    "> t-SNE and UMAP are preferable over PCA for visualizing embeddings when the primary goal is to reveal local clusters and preserve neighborhood relationships, especially in complex, non-linear data like semantic embeddings. They prioritize how similar items are grouped together, unlike PCA which focuses on maximizing variance.\n",
    "\n",
    "---\n",
    "\n",
    "### Data Analysis and Interpretation\n",
    "\n",
    "#### 4️⃣ Based on your cluster analysis, identify at least two potential challenges you faced in interpreting the clusters and propose strategies to address them.\n",
    "\n",
    "YOUR WRITTEN RESPONSE\n",
    "\n",
    "---\n",
    "\n",
    "#### 5️⃣ Did you observe any outliers in your 2D visualization? How would you identify and handle these outliers in a production pipeline?\n",
    "\n",
    "> Yes, a few points in the plot look isolated. In production, we can detect them by measuring distance to cluster centroids or checking low silhouette scores.\n",
    "\n",
    "---\n",
    "\n",
    "#### 6️⃣ If you could assign a 'label' or 'theme' to each cluster you obtained, what would they be? How confident are you in these assignments, and what could you do to validate them systematically?\n",
    "\n",
    "> Based on the top keywords, Cluster 0 includes terms like target, price, rating, and mergers, suggesting a focus on analyst opinions and corporate actions not directly tied to earnings. Cluster 1, with dominant terms like earnings, report, quarter, and preview, is clearly centered on quarterly financial results and expectations. Cluster 2 features words like stock, dividend, growth, and buy, pointing to broader investment ideas and stock performance discussions. I’m highly confident in the interpretation of Cluster 1, while Clusters 0 and 2 show more thematic variety, making the labeling less precise. To validate these assignments, keyword frequency analysis (as the one done previously), topic modeling, and manual review could be combined for stronger support.\n",
    "\n",
    "---\n",
    "\n",
    "### Critical Thinking\n",
    "\n",
    "#### 7️⃣ If news sentiment was incorporated into the analysis, how might this influence the clustering structure and interpretation of the clusters in a financial analysis context?\n",
    "\n",
    "> Incorporating news sentiment would lead to clusters differentiated by both content and emotion, such as \"Positive Earnings\" or \"Negative Corporate News.\" This creates more actionable financial insights, allowing for strategies driven by both what the news is and how it's perceived.\n",
    "\n",
    "---\n",
    "\n",
    "#### 8️⃣ Discuss the limitations of using k-means clustering for news embeddings. What alternative clustering methods could address these limitations, and under what conditions would you prefer them?\n",
    "\n",
    "> K-Means isn't always the best for news embeddings since it assumes clusters are round and evenly sized, which isn't how text data usually behaves. Methods like DBSCAN or HDBSCAN are better when clusters have weird shapes or different densities. And if the topics overlap or aren’t clearly separated, something like hierarchical or spectral clustering might make more sense.\n",
    "\n",
    "---\n",
    "\n",
    "#### 9️⃣ How could the approach in this notebook be extended to analyze the potential impact of news clusters on stock price movements over time? Sketch a high-level pipeline you would implement to test this.\n",
    "\n",
    "High-level pipeline:\n",
    "\n",
    "1. **News Processing**\n",
    "   * Collect S\\&P 500 news headlines/summaries.\n",
    "   * Generate embeddings using `all-MiniLM-L6-v2` or other models such as Gemma.\n",
    "   * Cluster the embeddings using K-Means.\n",
    "\n",
    "2. **Stock Price Alignment**\n",
    "   * For each article, fetch the related stock’s price using its ticker and date.\n",
    "   * Align news with price changes over a 1–3 day window.\n",
    "\n",
    "3. **Label Generation**\n",
    "   * Calculate % price change after the news.\n",
    "   * Label each article as **Positive**, **Negative**, or **Neutral** based on defined thresholds (e.g., ±0.5%).\n",
    "\n",
    "4. **Analysis & Insights**\n",
    "   * Create a heatmap or table showing how stock movement types distribute across clusters.\n",
    "   * Use statistical tests to check if clusters relate to stock price movement.\n",
    "\n",
    "5. **Predictive Modeling**\n",
    "   * Train a model using clusters, sentiment, and embeddings to predict movement labels.\n",
    "   * Evaluate performance against a baseline.\n",
    "   * Analyze which clusters or features drive predictions.\n",
    "\n",
    "---\n",
    "\n",
    "#### 🔟 Imagine your clustering shows clear groups of news, but your downstream task (e.g., prediction of stock movement) does not improve. What might explain this disconnect between clear clusters and predictive utility?\n",
    "\n",
    "> Even if news clusters appear clear and meaningful, they often don't improve stock prediction. This is because the clusters might group news based on textual similarities that simply aren't relevant to price movements, or the market may have already reacted to the information before it was processed. Essentially, clustering aims to organize data, not predict future outcomes, so its groupings might not align with the actual drivers of stock performance.\"\n",
    "\n"
   ]
  }
 ],
 "metadata": {
  "kernelspec": {
   "display_name": ".venv",
   "language": "python",
   "name": "python3"
  },
  "language_info": {
   "codemirror_mode": {
    "name": "ipython",
    "version": 3
   },
   "file_extension": ".py",
   "mimetype": "text/x-python",
   "name": "python",
   "nbconvert_exporter": "python",
   "pygments_lexer": "ipython3",
   "version": "3.11.6"
  }
 },
 "nbformat": 4,
 "nbformat_minor": 5
}
